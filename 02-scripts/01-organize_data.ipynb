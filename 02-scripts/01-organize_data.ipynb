{
 "cells": [
  {
   "cell_type": "code",
   "execution_count": 75,
   "id": "21818e87-7089-4f5b-b36a-c98984b0c325",
   "metadata": {},
   "outputs": [],
   "source": [
    "from pandas import read_csv, DataFrame\n",
    "from zipfile import ZipFile\n",
    "from datetime import datetime\n",
    "import os "
   ]
  },
  {
   "cell_type": "code",
   "execution_count": 76,
   "id": "0abb2ae8",
   "metadata": {},
   "outputs": [],
   "source": [
    "root_path = os.path.realpath(os.path.join(os.path.dirname(\"__file__\"), '..'))\n",
    "\n",
    "path_to_raw_data = root_path + '/01-data/01-raw/'\n",
    "path_to_processed_data = root_path + '/01-data/02-processed/'"
   ]
  },
  {
   "cell_type": "code",
   "execution_count": 77,
   "id": "d654e75a-ee48-42a6-b0b7-0e224a2cae7a",
   "metadata": {},
   "outputs": [],
   "source": [
    "def unzip_train_test(zip_path: str, unzip_path: str):\n",
    "    \n",
    "    \"\"\"\n",
    "    Função que lê os arquivos zipados do kaggle em uma determinada pasta e exporta em\\\n",
    "    outra pasta.\n",
    "    \n",
    "    Parametros\n",
    "    ----------\n",
    "    \n",
    "    zip_path: str\n",
    "        Caminho do arquivo zip a ser lido\n",
    "    unzip_path: str\n",
    "        Caminho do arquivo zip a ser exportado\n",
    "        \n",
    "    Retorna\n",
    "    -------\n",
    "    Um teste se o arquivo foi exportado corretamente    \n",
    "    \"\"\"\n",
    "    \n",
    "    zip_main = ZipFile(zip_path)\n",
    "    \n",
    "    if os.path.exists(path_to_processed_data) == False:\n",
    "\n",
    "        os.makedirs(path_to_processed_data)\n",
    "    \n",
    "        print('A pasta foi criada')\n",
    "    \n",
    "    else: \n",
    "    \n",
    "        print('A pasta de dados já existe')\n",
    "\n",
    "    try:\n",
    "        \n",
    "        date = datetime.now().strftime('%d/%m/%Y %H:%M:%S')\n",
    "        print(f'{date} - Salvando os dados de treino')\n",
    "        \n",
    "        zip_train1 = zip_main.open('train.csv.zip')\n",
    "        zip_train2 = ZipFile(zip_train1).open('train.csv')\n",
    "\n",
    "        train_pandas_df = read_csv(zip_train2)   \n",
    "                \n",
    "        train_file_name = unzip_path + 'train.csv'\n",
    "        train_pandas_df.to_csv(train_file_name)\n",
    "        \n",
    "        date = datetime.now().strftime('%d/%m/%Y %H:%M:%S')\n",
    "        print(f'{date} - Dados de treino salvos em {train_file_name}')\n",
    "        \n",
    "        \n",
    "        date = datetime.now().strftime('%d/%m/%Y %H:%M:%S')\n",
    "        print(f'{date} - Salvando os dados de teste')\n",
    "        \n",
    "        zip_test1 = zip_main.open('test.csv.zip')\n",
    "        zip_test2 = ZipFile(zip_test1).open('test.csv')\n",
    "\n",
    "        test_pandas_df = read_csv(zip_test2)   \n",
    "                \n",
    "        test_file_name = unzip_path + 'test.csv'\n",
    "        test_pandas_df.to_csv(test_file_name)\n",
    "        \n",
    "        date = datetime.now().strftime('%d/%m/%Y %H:%M:%S')\n",
    "        print(f'{date} - Dados de teste salvos em {test_file_name}')\n",
    "        \n",
    "        \n",
    "    except Exception as e:\n",
    "        \n",
    "        date = datetime.now().strftime('%d/%m/%Y %H:%M:%S')\n",
    "        print(f'{date} - {str(e)}')"
   ]
  },
  {
   "cell_type": "code",
   "execution_count": 78,
   "id": "ca6d8458-1747-4710-9057-fbf56399da6f",
   "metadata": {},
   "outputs": [
    {
     "name": "stdout",
     "output_type": "stream",
     "text": [
      "A pasta foi criada\n",
      "25/07/2022 18:44:16 - Salvando os dados de treino\n",
      "25/07/2022 18:44:25 - Dados de treino salvos em C:\\Users\\msb_rasilva\\Documents\\Github\\kaggleSberbankRussianHousingMarket/01-data/02-processed/train.csv\n",
      "25/07/2022 18:44:25 - Salvando os dados de teste\n",
      "25/07/2022 18:44:28 - Dados de teste salvos em C:\\Users\\msb_rasilva\\Documents\\Github\\kaggleSberbankRussianHousingMarket/01-data/02-processed/test.csv\n"
     ]
    }
   ],
   "source": [
    "#---- Apĺicação dos dados para criar a base de teste e treino dentro da pasta: \n",
    "# 01-data/02-processed\n",
    "\n",
    "unzip_train_test(zip_path = path_to_raw_data + 'sberbank-russian-housing-market.zip',\n",
    "                 unzip_path = path_to_processed_data)"
   ]
  }
 ],
 "metadata": {
  "kernelspec": {
   "display_name": "Python 3.9.12 ('base')",
   "language": "python",
   "name": "python3"
  },
  "language_info": {
   "codemirror_mode": {
    "name": "ipython",
    "version": 3
   },
   "file_extension": ".py",
   "mimetype": "text/x-python",
   "name": "python",
   "nbconvert_exporter": "python",
   "pygments_lexer": "ipython3",
   "version": "3.9.12"
  },
  "vscode": {
   "interpreter": {
    "hash": "c6fc2f11d24445846476bd1fe304df90c9e94ee4285c916b4cb4166585ad568a"
   }
  }
 },
 "nbformat": 4,
 "nbformat_minor": 5
}
