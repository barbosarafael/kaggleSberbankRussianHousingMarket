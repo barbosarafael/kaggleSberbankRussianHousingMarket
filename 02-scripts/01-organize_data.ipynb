{
 "cells": [
  {
   "cell_type": "code",
   "execution_count": 1,
   "id": "65bb301a-d473-40e9-ad77-d02d343d571a",
   "metadata": {},
   "outputs": [],
   "source": [
    "path_to_raw_data = '../01-data/01-raw/'\n",
    "path_to_processed_data = '../01-data/02-processed/'"
   ]
  },
  {
   "cell_type": "code",
   "execution_count": 2,
   "id": "21818e87-7089-4f5b-b36a-c98984b0c325",
   "metadata": {},
   "outputs": [],
   "source": [
    "from pandas import read_csv, DataFrame\n",
    "from zipfile import ZipFile\n",
    "from datetime import datetime"
   ]
  },
  {
   "cell_type": "code",
   "execution_count": 3,
   "id": "d654e75a-ee48-42a6-b0b7-0e224a2cae7a",
   "metadata": {},
   "outputs": [],
   "source": [
    "def unzip_train_test(zip_path: str, unzip_path: str):\n",
    "    \n",
    "    \"\"\"\n",
    "    Função que lê os arquivos zipados do kaggle em uma determinada pasta e exporta em\\\n",
    "    outra pasta.\n",
    "    \n",
    "    Parametros\n",
    "    ----------\n",
    "    \n",
    "    zip_path: str\n",
    "        Caminho do arquivo zip a ser lido\n",
    "    unzip_path: str\n",
    "        Caminho do arquivo zip a ser exportado\n",
    "        \n",
    "    Retorna\n",
    "    -------\n",
    "    Um teste se o arquivo foi exportado corretamente    \n",
    "    \"\"\"\n",
    "    \n",
    "    zip_main = ZipFile(zip_path)\n",
    "    \n",
    "    #---- Treino\n",
    "    \n",
    "       \n",
    "    try:\n",
    "        \n",
    "        date = datetime.now().strftime('%d/%m/%Y %H:%M:%S')\n",
    "        print(f'{date} - Salvando os dados de treino')\n",
    "        \n",
    "        zip_train1 = zip_main.open('train.csv.zip')\n",
    "        zip_train2 = ZipFile(zip_train1).open('train.csv')\n",
    "\n",
    "        train_pandas_df = read_csv(zip_train2)   \n",
    "                \n",
    "        train_file_name = unzip_path + 'train.csv'\n",
    "        train_pandas_df.to_csv(train_file_name)\n",
    "        \n",
    "        date = datetime.now().strftime('%d/%m/%Y %H:%M:%S')\n",
    "        print(f'{date} - Dados de treino salvos em {train_file_name}')\n",
    "        \n",
    "        \n",
    "        date = datetime.now().strftime('%d/%m/%Y %H:%M:%S')\n",
    "        print(f'{date} - Salvando os dados de teste')\n",
    "        \n",
    "        zip_test1 = zip_main.open('test.csv.zip')\n",
    "        zip_test2 = ZipFile(zip_test1).open('test.csv')\n",
    "\n",
    "        test_pandas_df = read_csv(zip_test2)   \n",
    "                \n",
    "        test_file_name = unzip_path + 'test.csv'\n",
    "        test_pandas_df.to_csv(test_file_name)\n",
    "        \n",
    "        date = datetime.now().strftime('%d/%m/%Y %H:%M:%S')\n",
    "        print(f'{date} - Dados de teste salvos em {test_file_name}')\n",
    "        \n",
    "        \n",
    "    except Exception as e:\n",
    "        \n",
    "        date = datetime.now().strftime('%d/%m/%Y %H:%M:%S')\n",
    "        print(f'{date}: {str(e)}')"
   ]
  },
  {
   "cell_type": "code",
   "execution_count": 4,
   "id": "ca6d8458-1747-4710-9057-fbf56399da6f",
   "metadata": {},
   "outputs": [
    {
     "name": "stdout",
     "output_type": "stream",
     "text": [
      "18/07/2022 23:00:02 - Salvando os dados de treino\n",
      "18/07/2022 23:00:06 - Dados de treino salvos em ../01-data/02-processed/train.csv\n",
      "18/07/2022 23:00:06 - Salvando os dados de teste\n",
      "18/07/2022 23:00:07 - Dados de teste salvos em ../01-data/02-processed/test.csv\n"
     ]
    }
   ],
   "source": [
    "#---- Apĺicação dos dados para criar a base de teste e treino dentro da pasta: \n",
    "# 01-data/02-processed\n",
    "\n",
    "unzip_train_test(zip_path = path_to_raw_data + 'sberbank-russian-housing-market.zip', \\\n",
    "                 unzip_path = path_to_processed_data)"
   ]
  }
 ],
 "metadata": {
  "kernelspec": {
   "display_name": "Python 3 (ipykernel)",
   "language": "python",
   "name": "python3"
  },
  "language_info": {
   "codemirror_mode": {
    "name": "ipython",
    "version": 3
   },
   "file_extension": ".py",
   "mimetype": "text/x-python",
   "name": "python",
   "nbconvert_exporter": "python",
   "pygments_lexer": "ipython3",
   "version": "3.8.10"
  }
 },
 "nbformat": 4,
 "nbformat_minor": 5
}
